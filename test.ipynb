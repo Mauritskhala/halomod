{
 "cells": [
  {
   "cell_type": "code",
   "execution_count": 1,
   "metadata": {},
   "outputs": [],
   "source": [
    "import numpy as np\n",
    "import matplotlib.pyplot as plt\n",
    "from fullhalomodel import Angular"
   ]
  },
  {
   "attachments": {},
   "cell_type": "markdown",
   "metadata": {},
   "source": [
    "`Angular` is a son class of `FullHOD`, so you can get \n",
    "all the necessary information in it using the same method. You can generate a Angular class like the following code."
   ]
  },
  {
   "cell_type": "code",
   "execution_count": 13,
   "metadata": {},
   "outputs": [],
   "source": [
    "\n",
    "acf=Angular(\n",
    "    pzfname=\"distribution.dat\",\n",
    "    deg=np.logspace(-3,np.log10(2),30),\n",
    "    urange=np.logspace(-3,3,600),\n",
    "    z=1,\n",
    "    hodtype=False,\n",
    "    hodparam=(12, 1, 13, 0, 1)\n",
    ")"
   ]
  },
  {
   "attachments": {},
   "cell_type": "markdown",
   "metadata": {},
   "source": [
    "The param `pzfname` is the redshift distribution of the true data. It must be normalized.  \n",
    "The param `deg` is where you want to get the angular correlation function in degree. In the internal calculation, it will be converted into radian. Generally it will be set to the same as that of observation data.   \n",
    "The param `urange` is a internal param to ensure the integral converged. The range of it should be smaller than the radii where the 3D correlation function calculated. This param is optional to be given, so I think it is unnecessary to determine it addtionally.   \n",
    "`z` is the redshift of you sample. You need to calculate it at first.  \n",
    "`hodtype` and `hodparam` decide the HOD model. When `hodtype=True`, the used HOD model is **Zehavi05**, where the `hodparam` represents $(M_{min},M_1,\\alpha)$. If `hodtype=False`, the used HOD model is **Zheng05**, where the `hodparam` represents $(M_{min},\\sigma_{\\mathrm{log}M},M_1,M_0,\\gamma)$. All the mass param input should be logarithms."
   ]
  },
  {
   "cell_type": "code",
   "execution_count": 14,
   "metadata": {},
   "outputs": [
    {
     "data": {
      "text/plain": [
       "[<matplotlib.lines.Line2D at 0x24c7452b460>]"
      ]
     },
     "execution_count": 14,
     "metadata": {},
     "output_type": "execute_result"
    },
    {
     "data": {
      "image/png": "[encoded data removed]",
      "text/plain": [
       "<Figure size 432x288 with 1 Axes>"
      ]
     },
     "metadata": {
      "needs_background": "light"
     },
     "output_type": "display_data"
    }
   ],
   "source": [
    "plt.loglog(acf.deg,acf.ang_projection)"
   ]
  }
 ],
 "metadata": {
  "kernelspec": {
   "display_name": "Python 3.9.7 64-bit",
   "language": "python",
   "name": "python3"
  },
  "language_info": {
   "codemirror_mode": {
    "name": "ipython",
    "version": 3
   },
   "file_extension": ".py",
   "mimetype": "text/x-python",
   "name": "python",
   "nbconvert_exporter": "python",
   "pygments_lexer": "ipython3",
   "version": "3.9.7"
  },
  "orig_nbformat": 4,
  "vscode": {
   "interpreter": {
    "hash": "93bf9a840bbd00392e10f1fa94062198b8b9ae63a7c3d60943d7b9f9b196ab83"
   }
  }
 },
 "nbformat": 4,
 "nbformat_minor": 2
}
