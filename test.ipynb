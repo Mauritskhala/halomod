{
 "cells": [
  {
   "cell_type": "code",
   "execution_count": 14,
   "metadata": {},
   "outputs": [
    {
     "data": {
      "text/plain": [
       "array([21.28803479, 19.78638117, 18.64736627, 17.80191414, 17.0877239 ,\n",
       "       16.33873887, 15.4198385 , 14.28805384, 12.99472287, 11.68067254,\n",
       "       10.5182915 ,  9.64825717,  9.04759211,  8.58276181,  8.09049037,\n",
       "        7.45627815,  6.71717774,  6.02550557,  5.49228972,  5.11338878,\n",
       "        4.77541179,  4.3745835 ,  3.93745652,  3.56071687,  3.27454382,\n",
       "        3.01828377,  2.74095847,  2.47397652,  2.25482627,  2.06138067,\n",
       "        1.86717955,  1.68997202,  1.53705495,  1.39287788,  1.25968791,\n",
       "        1.14142554,  1.03195739,  0.93265834,  0.84285054,  0.760492  ,\n",
       "        0.68644145,  0.61890617,  0.55767889,  0.50241935,  0.45225257,\n",
       "        0.40686708,  0.36593247,  0.32885017,  0.29542406,  0.2653047 ])"
      ]
     },
     "execution_count": 14,
     "metadata": {},
     "output_type": "execute_result"
    }
   ],
   "source": [
    "import numpy as np\n",
    "from cosmo import Cosmology\n",
    "p15=Cosmology(\"Pk_Challenage_Lin_Smooth.dat\")\n",
    "k=np.logspace(-1,0)\n",
    "p15.Pk_func(k)\n"
   ]
  }
 ],
 "metadata": {
  "kernelspec": {
   "display_name": "Python 3.9.7 64-bit",
   "language": "python",
   "name": "python3"
  },
  "language_info": {
   "codemirror_mode": {
    "name": "ipython",
    "version": 3
   },
   "file_extension": ".py",
   "mimetype": "text/x-python",
   "name": "python",
   "nbconvert_exporter": "python",
   "pygments_lexer": "ipython3",
   "version": "3.9.7"
  },
  "orig_nbformat": 4,
  "vscode": {
   "interpreter": {
    "hash": "5d3d05cccf998e99ec0faca839f86f1874b0e898804aacb0288bb987bfe0be1e"
   }
  }
 },
 "nbformat": 4,
 "nbformat_minor": 2
}
